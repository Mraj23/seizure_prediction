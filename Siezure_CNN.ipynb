{
  "nbformat": 4,
  "nbformat_minor": 0,
  "metadata": {
    "colab": {
      "provenance": []
    },
    "kernelspec": {
      "name": "python3",
      "display_name": "Python 3"
    },
    "language_info": {
      "name": "python"
    }
  },
  "cells": [
    {
      "cell_type": "code",
      "source": [
        "import torch\n",
        "from torch.utils.data import TensorDataset, Dataset, DataLoader\n",
        "import torch.nn.functional as F\n",
        "import numpy as np"
      ],
      "metadata": {
        "id": "BZcOOvWmKAa8"
      },
      "execution_count": 1,
      "outputs": []
    },
    {
      "cell_type": "code",
      "execution_count": 2,
      "metadata": {
        "colab": {
          "base_uri": "https://localhost:8080/"
        },
        "id": "cgPbj7FOJT8S",
        "outputId": "dc119baf-a239-4ee2-803b-cd890d2b9d52"
      },
      "outputs": [
        {
          "output_type": "stream",
          "name": "stdout",
          "text": [
            "Mounted at /content/drive\n"
          ]
        }
      ],
      "source": [
        "# Load the Drive helper and mount\n",
        "from google.colab import drive\n",
        "drive.mount('/content/drive')"
      ]
    },
    {
      "cell_type": "code",
      "source": [
        "import os\n",
        "os.chdir(\"drive/My Drive/Comp Medicine Project\")"
      ],
      "metadata": {
        "id": "5ZErZn_zJYAK"
      },
      "execution_count": 3,
      "outputs": []
    },
    {
      "cell_type": "code",
      "source": [
        "class BaselineModel(torch.nn.Module):\n",
        "    def __init__(self):\n",
        "        super().__init__()\n",
        "        self.fc1 = torch.nn.Linear(70, 1) # output is number channels\n",
        "        self.fc2 = torch.nn.Linear(19, 4)\n",
        "\n",
        "\n",
        "    def forward(self, x):\n",
        "        x = torch.tanh(self.fc1(x))\n",
        "        x = torch.transpose(x,-1,-2)\n",
        "        x = self.fc2(x)\n",
        "        return x\n"
      ],
      "metadata": {
        "id": "HDBtXn2sJsXO"
      },
      "execution_count": 4,
      "outputs": []
    },
    {
      "cell_type": "code",
      "source": [
        "X = np.load('x_train_power.npy')\n",
        "Y = np.load('y_train.npy')"
      ],
      "metadata": {
        "id": "rqnuxqFaJ6KT"
      },
      "execution_count": 5,
      "outputs": []
    },
    {
      "cell_type": "code",
      "source": [
        "def test_model():\n",
        "    model = BaselineModel()\n",
        "    criterion = torch.nn.CrossEntropyLoss()\n",
        "    optimizer = torch.optim.Adam(model.parameters())\n",
        "\n",
        "    \n",
        "    labels = F.one_hot(torch.Tensor(Y).type(torch.long)).type(torch.float)\n",
        "    train_set = TensorDataset(torch.Tensor(X).type(torch.float), labels)\n",
        "    train_loader = DataLoader(dataset=train_set, shuffle=True)\n",
        "\n",
        "    for epoch in range(10):\n",
        "        running_loss = 0\n",
        "        correct = 0\n",
        "        for i, data in enumerate(train_loader):\n",
        "            x_batch, y_batch = data\n",
        "\n",
        "            optimizer.zero_grad()\n",
        "            yhat = model(x_batch) \n",
        "            # print(yhat.shape, y_batch.shape)\n",
        "            loss = criterion(yhat[0], y_batch.type(torch.float))\n",
        "            loss.backward()\n",
        "            optimizer.step()\n",
        "            correct += (torch.argmax(yhat[0], dim=1) == torch.argmax(y_batch, dim=1)).float().sum()\n",
        "            running_loss += loss.item()\n",
        "            \n",
        "\n",
        "        acc = correct / len(train_set)\n",
        "        print('(%d) loss= %.3f; accuracy = %.1f%%' % (epoch, loss, 100 * acc))\n",
        "    \n",
        "    test_X = np.load('x_test_power.npy')\n",
        "    test_Y = np.load('y_test.npy')\n",
        "    \n",
        "    labels = F.one_hot(torch.Tensor(test_Y).type(torch.long)).type(torch.float)\n",
        "    test_set = TensorDataset(torch.Tensor(test_X).type(torch.float), labels)\n",
        "    test_loader = DataLoader(dataset=test_set)\n",
        "    correct = 0\n",
        "    for i, data in enumerate(test_loader):\n",
        "        x_batch, y_batch = data\n",
        "        yhat = model(x_batch) \n",
        "        # print(yhat.shape, y_batch.shape)\n",
        "        correct += (torch.argmax(yhat[0], dim=1) == torch.argmax(y_batch, dim=1)).float().sum()\n",
        "\n",
        "    print(correct, len(test_set))\n",
        "    acc = correct / len(test_set)\n",
        "    print('(%d) loss= %.3f; accuracy = %.1f%%' % (100, loss, 100 * acc))"
      ],
      "metadata": {
        "id": "ue4ljxQcJtEa"
      },
      "execution_count": 6,
      "outputs": []
    },
    {
      "cell_type": "code",
      "source": [
        "test_model()"
      ],
      "metadata": {
        "colab": {
          "base_uri": "https://localhost:8080/"
        },
        "id": "l4fhnj-CKRe2",
        "outputId": "639e2770-0260-4c3c-d0f2-5c0b80a1d568"
      },
      "execution_count": 7,
      "outputs": [
        {
          "output_type": "stream",
          "name": "stdout",
          "text": [
            "(0) loss= 0.501; accuracy = 63.2%\n",
            "(1) loss= 0.215; accuracy = 83.3%\n",
            "(2) loss= 0.031; accuracy = 85.5%\n",
            "(3) loss= 0.095; accuracy = 86.1%\n",
            "(4) loss= 0.474; accuracy = 86.1%\n",
            "(5) loss= 0.039; accuracy = 86.9%\n",
            "(6) loss= 0.716; accuracy = 87.0%\n",
            "(7) loss= 0.021; accuracy = 87.0%\n",
            "(8) loss= 0.139; accuracy = 87.4%\n",
            "(9) loss= 0.432; accuracy = 87.3%\n",
            "tensor(681.) 779\n",
            "(100) loss= 0.432; accuracy = 87.4%\n"
          ]
        }
      ]
    },
    {
      "cell_type": "code",
      "source": [
        "from torchsummary import summary\n",
        "model = BaselineModel()\n",
        "print(summary(model, input_size=(19, 70)))"
      ],
      "metadata": {
        "colab": {
          "base_uri": "https://localhost:8080/"
        },
        "id": "VOD_qH1wONBq",
        "outputId": "6d145fc6-2c2b-4f23-be42-542942697439"
      },
      "execution_count": 8,
      "outputs": [
        {
          "output_type": "stream",
          "name": "stdout",
          "text": [
            "----------------------------------------------------------------\n",
            "        Layer (type)               Output Shape         Param #\n",
            "================================================================\n",
            "            Linear-1                [-1, 19, 1]              71\n",
            "            Linear-2                 [-1, 1, 4]              80\n",
            "================================================================\n",
            "Total params: 151\n",
            "Trainable params: 151\n",
            "Non-trainable params: 0\n",
            "----------------------------------------------------------------\n",
            "Input size (MB): 0.01\n",
            "Forward/backward pass size (MB): 0.00\n",
            "Params size (MB): 0.00\n",
            "Estimated Total Size (MB): 0.01\n",
            "----------------------------------------------------------------\n",
            "None\n"
          ]
        }
      ]
    },
    {
      "cell_type": "markdown",
      "source": [
        "# CNN"
      ],
      "metadata": {
        "id": "AaBQPU_e5Xti"
      }
    },
    {
      "cell_type": "code",
      "source": [
        "import torch.nn as nn "
      ],
      "metadata": {
        "id": "gbfm1Z7fK99s"
      },
      "execution_count": 9,
      "outputs": []
    },
    {
      "cell_type": "code",
      "source": [
        "class CNNModel(nn.Module):\n",
        "  def __init__(self):\n",
        "    super(CNNModel, self).__init__()\n",
        "    \n",
        "    self.cnn1 = nn.Conv1d(in_channels=19, out_channels=21, kernel_size=3, stride=1, padding=0)\n",
        "    self.relu1 = nn.ReLU() \n",
        "    self.cnn2 = nn.Conv1d(in_channels=21, out_channels=23, kernel_size=3, stride=1, padding=0)\n",
        "    self.relu2 = nn.ReLU()  \n",
        "  \n",
        "\n",
        "    self.fc1 = torch.nn.Linear(1518, 128)\n",
        "    self.fc2 = torch.nn.Linear(128, 4)\n",
        "\n",
        "  def forward(self,x):\n",
        "\n",
        "    out = self.cnn1(x)\n",
        "    out = self.relu1(out)\n",
        "    out = self.cnn2(out)      \n",
        "    out = self.relu2(out)\n",
        "\n",
        "    out = out.view(out.size(0), -1)\n",
        "\n",
        "\n",
        "    out = self.fc1(out)\n",
        "    out = self.fc2(out)      \n",
        "    #out = self.fc3(out)\n",
        "    #out = self.fc4(out)\n",
        "    #out = self.fc5(out)\n",
        "    \n",
        "    return out"
      ],
      "metadata": {
        "id": "roTWKaW1K4HK"
      },
      "execution_count": 10,
      "outputs": []
    },
    {
      "cell_type": "code",
      "source": [],
      "metadata": {
        "id": "_1AGN7plNi1J"
      },
      "execution_count": null,
      "outputs": []
    },
    {
      "cell_type": "code",
      "source": [
        "device = \"cuda\" if torch.cuda.is_available() else \"cpu\"\n",
        "model = CNNModel()\n",
        "model.to(device)\n",
        "\n",
        "error = torch.nn.CrossEntropyLoss()\n",
        "\n",
        "learning_rate = 0.001\n",
        "optimizer = torch.optim.Adam(model.parameters(), lr=learning_rate)\n",
        "num_epochs = 10"
      ],
      "metadata": {
        "id": "N3iHGiJhLKjI"
      },
      "execution_count": 11,
      "outputs": []
    },
    {
      "cell_type": "code",
      "source": [
        "from torchsummary import summary\n",
        "print(summary(model, input_size=(19, 70)))"
      ],
      "metadata": {
        "colab": {
          "base_uri": "https://localhost:8080/"
        },
        "id": "YQZ3Pzp0bJ1F",
        "outputId": "f97026d0-61bc-4106-e2c1-caa07f26eeb9"
      },
      "execution_count": 12,
      "outputs": [
        {
          "output_type": "stream",
          "name": "stdout",
          "text": [
            "----------------------------------------------------------------\n",
            "        Layer (type)               Output Shape         Param #\n",
            "================================================================\n",
            "            Conv1d-1               [-1, 21, 68]           1,218\n",
            "              ReLU-2               [-1, 21, 68]               0\n",
            "            Conv1d-3               [-1, 23, 66]           1,472\n",
            "              ReLU-4               [-1, 23, 66]               0\n",
            "            Linear-5                  [-1, 128]         194,432\n",
            "            Linear-6                    [-1, 4]             516\n",
            "================================================================\n",
            "Total params: 197,638\n",
            "Trainable params: 197,638\n",
            "Non-trainable params: 0\n",
            "----------------------------------------------------------------\n",
            "Input size (MB): 0.01\n",
            "Forward/backward pass size (MB): 0.05\n",
            "Params size (MB): 0.75\n",
            "Estimated Total Size (MB): 0.80\n",
            "----------------------------------------------------------------\n",
            "None\n"
          ]
        }
      ]
    },
    {
      "cell_type": "code",
      "source": [
        "count = 0\n",
        "loss_list = []\n",
        "iteration_list = []\n",
        "accuracy_list = []\n",
        "\n",
        "batch_size = 1\n",
        "\n",
        "labels_train = F.one_hot(torch.Tensor(Y).type(torch.long)).type(torch.float)\n",
        "train_set = TensorDataset(torch.Tensor(X).type(torch.float), labels_train)\n",
        "train_loader = DataLoader(dataset=train_set, shuffle=True, batch_size=batch_size)\n",
        "\n",
        "test_X = np.load('x_test_power.npy')\n",
        "test_Y = np.load('y_test.npy')\n",
        "    \n",
        "labels_test = F.one_hot(torch.Tensor(test_Y).type(torch.long)).type(torch.float)\n",
        "test_set = TensorDataset(torch.Tensor(test_X).type(torch.float), labels_test)\n",
        "test_loader = DataLoader(dataset=test_set, batch_size=batch_size)\n",
        "\n",
        "for epoch in range(num_epochs):\n",
        "    running_loss = 0\n",
        "    correct = 0\n",
        "    for i, (x_data, labels) in enumerate(train_loader):\n",
        "        x_data, labels = x_data.to(device), labels.to(device)\n",
        "\n",
        "        optimizer.zero_grad()\n",
        "        \n",
        "        outputs = model(x_data)\n",
        "\n",
        "        loss = error(outputs, labels)\n",
        "        \n",
        "        loss.backward()\n",
        "        \n",
        "        optimizer.step()\n",
        "        \n",
        "        correct += (torch.argmax(outputs, dim=1) == torch.argmax(labels, dim=1)).float().sum()\n",
        "        running_loss += loss.item()\n",
        "\n",
        "    acc = correct / len(train_set)\n",
        "    print('(%d) train loss= %.3f; train accuracy = %.1f%%' % (epoch, loss.data, 100 * acc))\n",
        "\n",
        "correct = 0\n",
        "for i, (x_data, labels) in enumerate(test_loader):\n",
        "        x_data, labels = x_data.to(device), labels.to(device)\n",
        "        outputs = model(x_data)\n",
        "      \n",
        "        correct += (torch.argmax(outputs, dim=1) == torch.argmax(labels, dim=1)).float().sum()\n",
        "\n",
        "acc = correct / len(test_set)\n",
        "print('(%d) loss= %.3f; test accuracy = %.1f%%' % (100, loss.data, 100 * acc))"
      ],
      "metadata": {
        "colab": {
          "base_uri": "https://localhost:8080/"
        },
        "id": "w71goqGPLiOi",
        "outputId": "ef2fd0fb-9a33-4bf1-b8ca-ad3a778eae8e"
      },
      "execution_count": 13,
      "outputs": [
        {
          "output_type": "stream",
          "name": "stdout",
          "text": [
            "(0) train loss= 0.026; train accuracy = 84.8%\n",
            "(1) train loss= 0.011; train accuracy = 91.1%\n",
            "(2) train loss= 0.034; train accuracy = 93.2%\n",
            "(3) train loss= 0.051; train accuracy = 93.3%\n",
            "(4) train loss= 0.000; train accuracy = 94.5%\n",
            "(5) train loss= 0.010; train accuracy = 94.5%\n",
            "(6) train loss= 0.000; train accuracy = 95.2%\n",
            "(7) train loss= 0.025; train accuracy = 95.1%\n",
            "(8) train loss= 0.000; train accuracy = 96.0%\n",
            "(9) train loss= 0.000; train accuracy = 96.3%\n",
            "(100) loss= 0.000; test accuracy = 94.4%\n"
          ]
        }
      ]
    },
    {
      "cell_type": "code",
      "source": [
        "from sklearn.metrics import confusion_matrix\n",
        "import seaborn as sn\n",
        "import pandas as pd\n",
        "import matplotlib.pyplot as plt\n"
      ],
      "metadata": {
        "id": "Yc1GjOU77RP6"
      },
      "execution_count": 14,
      "outputs": []
    },
    {
      "cell_type": "code",
      "source": [
        "\n",
        "y_pred = []\n",
        "y_true = []\n",
        "'''\n",
        "for i, (x_data, labels) in enumerate(test_loader):\n",
        "        x_data, labels = x_data.to(device), labels.to(device)\n",
        "        outputs = model(x_data)\n",
        "\n",
        "'''\n",
        "# iterate over test data\n",
        "for inputs, labels in test_loader:\n",
        "        output = model(inputs) # Feed Network\n",
        "\n",
        "        output = (torch.max(torch.exp(output), 1)[1]).data.cpu().numpy()\n",
        "        y_pred.extend(output) # Save Prediction\n",
        "        \n",
        "        labels = labels.data.cpu().numpy()\n",
        "        labels = np.argmax(labels, axis=1)\n",
        "        y_true.extend(labels) # Save Truth\n",
        "\n",
        "# constant for classes\n",
        "classes = ('0', '1', '2', '3')\n",
        "\n",
        "print(y_pred)\n",
        "print(y_true)\n",
        "\n",
        "# Build confusion matrix\n",
        "cf_matrix = confusion_matrix(y_true, y_pred)\n",
        "df_cm = pd.DataFrame(cf_matrix, index = [i for i in classes],\n",
        "                     columns = [i for i in classes])\n",
        "plt.figure(figsize = (12,7))\n",
        "sn.heatmap(df_cm, annot=True)\n",
        "plt.show"
      ],
      "metadata": {
        "colab": {
          "base_uri": "https://localhost:8080/",
          "height": 502
        },
        "id": "xVns6xKO65pu",
        "outputId": "637d9d3e-b882-434e-e0d8-a3b1f731d7bd"
      },
      "execution_count": 15,
      "outputs": [
        {
          "output_type": "stream",
          "name": "stdout",
          "text": [
            "[2, 2, 1, 1, 1, 0, 0, 0, 1, 0, 1, 3, 0, 1, 0, 0, 1, 0, 0, 1, 0, 0, 0, 2, 0, 0, 0, 0, 1, 1, 0, 0, 1, 0, 1, 1, 2, 2, 1, 2, 1, 2, 0, 0, 1, 0, 1, 2, 1, 0, 1, 0, 1, 1, 0, 0, 0, 2, 0, 0, 0, 1, 0, 0, 1, 1, 0, 0, 0, 0, 1, 0, 0, 1, 0, 1, 0, 2, 1, 0, 1, 0, 1, 1, 0, 1, 2, 1, 0, 2, 0, 0, 0, 0, 0, 1, 1, 0, 0, 0, 1, 1, 0, 1, 1, 0, 1, 0, 0, 0, 0, 1, 0, 1, 0, 0, 1, 1, 0, 2, 0, 1, 2, 0, 1, 2, 1, 0, 0, 2, 2, 0, 1, 1, 0, 1, 0, 0, 1, 1, 1, 0, 0, 0, 1, 0, 0, 1, 0, 0, 0, 0, 1, 1, 0, 0, 1, 0, 2, 0, 1, 1, 0, 1, 0, 0, 0, 0, 1, 0, 0, 0, 0, 1, 3, 0, 0, 1, 0, 1, 0, 0, 0, 0, 0, 1, 1, 0, 0, 2, 2, 0, 0, 0, 0, 1, 2, 3, 0, 1, 1, 0, 0, 1, 1, 0, 1, 0, 1, 0, 0, 0, 0, 0, 0, 1, 0, 0, 0, 0, 1, 0, 1, 0, 0, 0, 3, 1, 0, 0, 0, 0, 0, 1, 1, 2, 0, 0, 1, 0, 1, 0, 0, 0, 0, 0, 0, 2, 2, 2, 0, 0, 1, 0, 1, 1, 0, 1, 0, 0, 0, 0, 1, 0, 1, 0, 0, 0, 0, 2, 0, 1, 1, 0, 2, 0, 0, 1, 1, 0, 0, 2, 1, 0, 0, 0, 0, 0, 1, 1, 1, 0, 0, 1, 1, 1, 1, 1, 1, 0, 0, 0, 0, 0, 0, 0, 1, 0, 0, 0, 0, 2, 1, 1, 2, 1, 0, 0, 0, 0, 0, 0, 0, 1, 0, 1, 1, 1, 0, 0, 0, 0, 0, 0, 0, 0, 0, 2, 0, 0, 0, 0, 2, 1, 1, 0, 1, 1, 0, 0, 2, 1, 1, 0, 0, 2, 0, 0, 0, 0, 0, 0, 0, 0, 0, 0, 0, 1, 0, 1, 1, 1, 2, 1, 0, 0, 0, 1, 0, 0, 1, 0, 1, 1, 0, 1, 0, 0, 1, 2, 3, 2, 2, 0, 0, 1, 0, 0, 1, 0, 1, 0, 1, 0, 1, 1, 0, 0, 0, 0, 2, 0, 0, 1, 0, 0, 1, 0, 1, 1, 0, 0, 0, 0, 1, 0, 0, 0, 1, 0, 1, 0, 1, 0, 0, 0, 1, 1, 0, 1, 0, 0, 1, 2, 0, 1, 1, 0, 0, 0, 0, 0, 0, 1, 1, 1, 0, 0, 0, 0, 1, 0, 1, 0, 0, 0, 0, 0, 0, 1, 0, 2, 0, 0, 0, 0, 1, 0, 0, 0, 0, 0, 0, 0, 1, 0, 1, 0, 1, 0, 0, 1, 1, 1, 0, 1, 0, 2, 0, 0, 0, 0, 1, 1, 2, 2, 0, 0, 1, 0, 0, 1, 0, 0, 1, 1, 1, 0, 1, 1, 0, 1, 0, 0, 1, 0, 2, 0, 2, 1, 1, 1, 0, 0, 0, 0, 0, 1, 1, 0, 0, 0, 0, 1, 0, 0, 0, 0, 0, 1, 1, 0, 1, 0, 0, 0, 0, 0, 1, 2, 1, 1, 0, 0, 0, 0, 0, 0, 0, 0, 0, 0, 0, 1, 2, 1, 0, 1, 0, 0, 1, 0, 2, 0, 1, 0, 1, 0, 1, 0, 1, 0, 1, 0, 1, 0, 0, 1, 0, 0, 0, 1, 0, 2, 1, 1, 0, 0, 0, 2, 1, 0, 0, 0, 0, 1, 2, 0, 0, 1, 0, 0, 0, 0, 0, 0, 0, 1, 1, 0, 0, 1, 2, 0, 0, 1, 2, 0, 1, 1, 1, 1, 0, 2, 0, 0, 2, 0, 1, 0, 0, 0, 1, 0, 0, 1, 0, 0, 0, 0, 1, 0, 1, 1, 0, 0, 1, 0, 0, 0, 0, 1, 0, 1, 0, 0, 1, 0, 2, 1, 1, 0, 0, 1, 0, 0, 0, 0, 2, 0, 0, 1, 0, 0, 0, 0, 2, 0, 2, 0, 1, 0, 0, 1, 0, 2, 0, 0, 2, 1, 2, 0, 0, 0, 1, 0, 1, 0, 0, 1, 0, 0, 1, 1, 1, 0, 0, 0, 2, 1, 0, 0, 0, 0, 1, 0, 1, 0, 0, 0, 1, 0, 1, 0, 0, 1, 0, 0, 1, 0, 0, 1, 0, 0, 0, 1, 0, 0, 1, 2, 0, 2, 0, 1, 0, 0, 1, 2, 0, 1, 0, 3, 0, 0, 1, 1, 0, 1, 0]\n",
            "[2, 2, 1, 1, 1, 0, 0, 0, 1, 0, 1, 3, 0, 1, 0, 0, 1, 0, 0, 1, 0, 0, 0, 2, 0, 0, 0, 0, 1, 1, 0, 0, 1, 0, 1, 1, 2, 2, 1, 2, 1, 2, 0, 0, 1, 0, 1, 2, 1, 0, 1, 0, 1, 1, 0, 0, 0, 2, 0, 0, 1, 1, 0, 0, 1, 1, 0, 0, 0, 1, 1, 0, 0, 1, 0, 1, 0, 2, 1, 0, 1, 0, 1, 1, 0, 1, 2, 1, 0, 2, 0, 0, 0, 0, 0, 1, 1, 0, 1, 0, 1, 1, 0, 1, 1, 0, 1, 0, 0, 1, 0, 1, 0, 1, 0, 0, 1, 1, 0, 2, 0, 1, 2, 0, 1, 2, 1, 0, 0, 2, 2, 0, 1, 1, 0, 1, 0, 0, 1, 1, 1, 0, 0, 0, 1, 0, 0, 1, 0, 0, 0, 0, 1, 1, 1, 1, 1, 0, 2, 0, 1, 1, 0, 1, 0, 0, 0, 0, 1, 0, 0, 0, 0, 1, 3, 0, 0, 1, 0, 1, 1, 0, 0, 0, 0, 1, 1, 0, 0, 2, 2, 0, 0, 0, 0, 1, 2, 3, 0, 1, 1, 0, 0, 1, 1, 0, 1, 0, 1, 0, 0, 1, 0, 0, 0, 1, 0, 0, 0, 0, 1, 0, 1, 0, 0, 0, 3, 1, 0, 0, 0, 0, 0, 1, 1, 2, 0, 0, 1, 0, 1, 0, 0, 1, 0, 0, 0, 2, 2, 2, 0, 0, 1, 0, 1, 1, 0, 1, 0, 1, 0, 0, 1, 0, 1, 0, 0, 0, 0, 2, 0, 1, 1, 0, 2, 0, 0, 1, 1, 0, 1, 2, 1, 0, 0, 0, 0, 0, 1, 1, 1, 0, 0, 1, 1, 1, 1, 1, 1, 0, 0, 0, 2, 0, 0, 0, 1, 0, 0, 0, 0, 2, 1, 1, 2, 1, 0, 0, 1, 0, 0, 0, 0, 1, 0, 1, 1, 1, 0, 0, 0, 0, 0, 0, 0, 0, 0, 2, 0, 0, 0, 0, 2, 1, 1, 0, 1, 1, 0, 0, 2, 1, 1, 1, 0, 2, 0, 0, 0, 0, 0, 0, 0, 0, 0, 0, 0, 1, 1, 1, 1, 1, 2, 1, 0, 0, 0, 1, 0, 0, 1, 0, 1, 1, 0, 1, 0, 0, 1, 2, 3, 2, 2, 0, 0, 1, 0, 0, 1, 0, 1, 0, 1, 0, 1, 1, 0, 1, 1, 0, 0, 0, 0, 1, 0, 0, 1, 0, 1, 1, 0, 0, 0, 0, 1, 1, 0, 0, 1, 0, 1, 0, 1, 0, 0, 0, 1, 1, 0, 1, 0, 0, 1, 2, 1, 1, 1, 0, 0, 0, 0, 0, 0, 1, 1, 1, 0, 0, 0, 1, 1, 0, 1, 1, 0, 0, 0, 0, 0, 1, 0, 2, 0, 0, 0, 0, 1, 1, 0, 0, 0, 0, 0, 0, 1, 0, 1, 0, 1, 0, 0, 1, 1, 1, 1, 1, 0, 2, 0, 1, 0, 0, 1, 1, 2, 2, 0, 0, 1, 0, 0, 1, 0, 0, 1, 1, 1, 0, 1, 1, 0, 1, 0, 0, 1, 1, 2, 0, 2, 1, 1, 1, 0, 0, 0, 0, 0, 1, 1, 1, 0, 0, 0, 1, 1, 1, 0, 2, 0, 1, 1, 0, 1, 1, 0, 1, 1, 0, 1, 2, 1, 1, 0, 0, 0, 0, 0, 0, 0, 0, 0, 1, 0, 1, 2, 1, 1, 1, 0, 1, 1, 0, 2, 0, 1, 0, 1, 0, 1, 1, 1, 0, 1, 0, 1, 0, 0, 1, 0, 0, 0, 1, 0, 2, 1, 1, 0, 0, 0, 2, 1, 0, 0, 0, 0, 1, 2, 0, 0, 1, 0, 0, 0, 1, 0, 0, 0, 1, 1, 0, 0, 1, 2, 0, 0, 1, 2, 0, 1, 1, 1, 1, 0, 2, 0, 0, 2, 0, 1, 0, 0, 0, 1, 1, 0, 1, 0, 0, 0, 0, 1, 0, 1, 1, 0, 0, 1, 0, 0, 0, 0, 1, 0, 1, 0, 0, 1, 0, 2, 1, 1, 0, 0, 1, 0, 0, 0, 0, 2, 0, 1, 1, 0, 0, 0, 0, 2, 0, 2, 0, 1, 0, 0, 1, 0, 2, 0, 0, 2, 1, 2, 1, 0, 0, 1, 0, 1, 0, 0, 1, 0, 0, 1, 1, 1, 1, 0, 0, 2, 1, 0, 0, 0, 0, 1, 0, 1, 0, 0, 0, 1, 0, 1, 1, 0, 1, 0, 0, 1, 0, 0, 1, 0, 0, 1, 1, 0, 0, 1, 2, 0, 2, 0, 1, 0, 0, 1, 2, 0, 1, 0, 3, 0, 0, 1, 1, 0, 1, 0]\n"
          ]
        },
        {
          "output_type": "execute_result",
          "data": {
            "text/plain": [
              "<function matplotlib.pyplot.show(*args, **kw)>"
            ]
          },
          "metadata": {},
          "execution_count": 15
        },
        {
          "output_type": "display_data",
          "data": {
            "text/plain": [
              "<Figure size 864x504 with 2 Axes>"
            ],
            "image/png": "[encoded data removed]"
          },
          "metadata": {
            "needs_background": "light"
          }
        }
      ]
    }
  ]
}